{
 "cells": [
  {
   "cell_type": "code",
   "execution_count": null,
   "metadata": {},
   "outputs": [],
   "source": [
    "import torch\n",
    "import loguru\n",
    "from pathlib import Path\n",
    "from common.opt import Options\n",
    "from model.sgra_former import SGraFormer"
   ]
  },
  {
   "cell_type": "code",
   "execution_count": null,
   "metadata": {},
   "outputs": [],
   "source": [
    "device = torch.device(\"cuda\" if torch.cuda.is_available() else \"cpu\")\n",
    "display(device)"
   ]
  },
  {
   "cell_type": "code",
   "execution_count": null,
   "metadata": {},
   "outputs": [],
   "source": [
    "model_path = Path(\"model\") / \"model_28_2733.pth\"\n",
    "default_opts = Options()\n",
    "model = SGraFormer(num_frame=default_opts.frames, num_joints=17, in_chans=2, embed_dim_ratio=32, depth=4,\n",
    "                      num_heads=8, mlp_ratio=2., qkv_bias=True, qk_scale=None, drop_path_rate=0.1)"
   ]
  },
  {
   "cell_type": "code",
   "execution_count": null,
   "metadata": {},
   "outputs": [],
   "source": [
    "import graphviz\n",
    "from torchview import draw_graph\n",
    "graphviz.set_jupyter_format(\"png\")\n",
    "input_2d_shape = (32, 27, 4, 17, 2)\n",
    "hops_shape = (32, 4, 17, 17)\n",
    "model_graph = draw_graph(model, input_size=[input_2d_shape, hops_shape], device=device)\n",
    "model_graph.visual_graph"
   ]
  }
 ],
 "metadata": {
  "kernelspec": {
   "display_name": "base",
   "language": "python",
   "name": "python3"
  },
  "language_info": {
   "codemirror_mode": {
    "name": "ipython",
    "version": 3
   },
   "file_extension": ".py",
   "mimetype": "text/x-python",
   "name": "python",
   "nbconvert_exporter": "python",
   "pygments_lexer": "ipython3",
   "version": "3.12.4"
  }
 },
 "nbformat": 4,
 "nbformat_minor": 2
}
